{
  "nbformat": 4,
  "nbformat_minor": 0,
  "metadata": {
    "colab": {
      "name": "Project_three.ipynb",
      "version": "0.3.2",
      "provenance": [],
      "collapsed_sections": []
    },
    "kernelspec": {
      "name": "python3",
      "display_name": "Python 3"
    }
  },
  "cells": [
    {
      "cell_type": "code",
      "metadata": {
        "id": "I4Ie23OygpQC",
        "colab_type": "code",
        "colab": {}
      },
      "source": [
        "#import the data, specify data types\n",
        "import pandas as pd\n",
        "df = pd.read_csv('(https://github.com/salvarezmeneses/DataSciencePython/blob/master/Lottery_NY_Lotto_Winning_Numbers__Beginning_2001.csv')\n",
        "df.head()"
      ],
      "execution_count": 0,
      "outputs": []
    }
  ]
}